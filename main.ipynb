{
 "cells": [
  {
   "cell_type": "code",
   "execution_count": 1,
   "metadata": {},
   "outputs": [],
   "source": [
    "import torch\n",
    "import torch.nn as nn\n",
    "import torch.nn.functional as F\n",
    "import torch.optim as optim\n",
    "from torch.utils.data import Dataset, DataLoader\n",
    "import numpy as np\n",
    "import os\n",
    "\n",
    "from model1 import Model1\n",
    "from endovis_dataset import EndovisDataset\n",
    "from reformat_data import convert_all_data\n",
    "\n",
    "segmentation_model_weights_path = \"model1_weights.pth\"\n",
    "tracking_model_weights_path = \"tracking_model_weights.pth\"\n",
    "\n",
    "og_data_path = r\"original_data\"\n",
    "data_path = r\"data\"\n",
    "\n",
    "# Hyperparameters \n",
    "# TODO tune these! I just made them randomly\n",
    "batch_size = 16\n",
    "learning_rate = 0.0001\n",
    "momentum = 0.9\n",
    "epochs = 10\n",
    "\n",
    "\n"
   ]
  },
  {
   "cell_type": "code",
   "execution_count": 2,
   "metadata": {},
   "outputs": [
    {
     "ename": "FileNotFoundError",
     "evalue": "[WinError 3] The system cannot find the path specified: '\\\\data'",
     "output_type": "error",
     "traceback": [
      "\u001b[31m---------------------------------------------------------------------------\u001b[39m",
      "\u001b[31mFileNotFoundError\u001b[39m                         Traceback (most recent call last)",
      "\u001b[36mCell\u001b[39m\u001b[36m \u001b[39m\u001b[32mIn[2]\u001b[39m\u001b[32m, line 11\u001b[39m\n\u001b[32m      1\u001b[39m \u001b[38;5;66;03m# Converts all the data from video to npz files\u001b[39;00m\n\u001b[32m      2\u001b[39m \u001b[38;5;66;03m# Only need to run this once when setting up your system\u001b[39;00m\n\u001b[32m      3\u001b[39m \n\u001b[32m      4\u001b[39m \u001b[38;5;66;03m# Subfolders where data is; True indicates it is segmentation data\u001b[39;00m\n\u001b[32m      5\u001b[39m subfolders = { \n\u001b[32m      6\u001b[39m     \u001b[33m\"\u001b[39m\u001b[33msegmentation_train\u001b[39m\u001b[33m\"\u001b[39m: \u001b[38;5;28;01mTrue\u001b[39;00m,\n\u001b[32m      7\u001b[39m     \u001b[33m\"\u001b[39m\u001b[33msegmentation_test\u001b[39m\u001b[33m\"\u001b[39m: \u001b[38;5;28;01mTrue\u001b[39;00m,\n\u001b[32m      8\u001b[39m     \u001b[33m\"\u001b[39m\u001b[33mtracking_train\u001b[39m\u001b[33m\"\u001b[39m: \u001b[38;5;28;01mFalse\u001b[39;00m,\n\u001b[32m      9\u001b[39m     \u001b[33m\"\u001b[39m\u001b[33mtracking_test\u001b[39m\u001b[33m\"\u001b[39m: \u001b[38;5;28;01mFalse\u001b[39;00m\n\u001b[32m     10\u001b[39m }\n\u001b[32m---> \u001b[39m\u001b[32m11\u001b[39m \u001b[43mconvert_all_data\u001b[49m\u001b[43m(\u001b[49m\u001b[43mog_data_path\u001b[49m\u001b[43m,\u001b[49m\u001b[43m \u001b[49m\u001b[43mdata_path\u001b[49m\u001b[43m,\u001b[49m\u001b[43m \u001b[49m\u001b[43msubfolders\u001b[49m\u001b[43m)\u001b[49m\n",
      "\u001b[36mFile \u001b[39m\u001b[32mc:\\Users\\amber\\Documents\\github\\CS_7643_project\\reformat_data.py:322\u001b[39m, in \u001b[36mconvert_all_data\u001b[39m\u001b[34m(og_data, new_data, subfolders)\u001b[39m\n\u001b[32m    321\u001b[39m \u001b[38;5;28;01mdef\u001b[39;00m\u001b[38;5;250m \u001b[39m\u001b[34mconvert_all_data\u001b[39m(og_data, new_data, subfolders):\n\u001b[32m--> \u001b[39m\u001b[32m322\u001b[39m     \u001b[43mshutil\u001b[49m\u001b[43m.\u001b[49m\u001b[43mrmtree\u001b[49m\u001b[43m(\u001b[49m\u001b[43mnew_data\u001b[49m\u001b[43m)\u001b[49m\n\u001b[32m    323\u001b[39m     \u001b[38;5;28;01mfor\u001b[39;00m subfolder, seg \u001b[38;5;129;01min\u001b[39;00m subfolders:\n\u001b[32m    324\u001b[39m         oldpath = os.path.join(og_data, subfolder)\n",
      "\u001b[36mFile \u001b[39m\u001b[32mc:\\Users\\amber\\AppData\\Local\\Programs\\Python\\Python311\\Lib\\shutil.py:759\u001b[39m, in \u001b[36mrmtree\u001b[39m\u001b[34m(path, ignore_errors, onerror, dir_fd)\u001b[39m\n\u001b[32m    757\u001b[39m     \u001b[38;5;66;03m# can't continue even if onerror hook returns\u001b[39;00m\n\u001b[32m    758\u001b[39m     \u001b[38;5;28;01mreturn\u001b[39;00m\n\u001b[32m--> \u001b[39m\u001b[32m759\u001b[39m \u001b[38;5;28;01mreturn\u001b[39;00m \u001b[43m_rmtree_unsafe\u001b[49m\u001b[43m(\u001b[49m\u001b[43mpath\u001b[49m\u001b[43m,\u001b[49m\u001b[43m \u001b[49m\u001b[43monerror\u001b[49m\u001b[43m)\u001b[49m\n",
      "\u001b[36mFile \u001b[39m\u001b[32mc:\\Users\\amber\\AppData\\Local\\Programs\\Python\\Python311\\Lib\\shutil.py:603\u001b[39m, in \u001b[36m_rmtree_unsafe\u001b[39m\u001b[34m(path, onerror)\u001b[39m\n\u001b[32m    601\u001b[39m         entries = \u001b[38;5;28mlist\u001b[39m(scandir_it)\n\u001b[32m    602\u001b[39m \u001b[38;5;28;01mexcept\u001b[39;00m \u001b[38;5;167;01mOSError\u001b[39;00m:\n\u001b[32m--> \u001b[39m\u001b[32m603\u001b[39m     \u001b[43monerror\u001b[49m\u001b[43m(\u001b[49m\u001b[43mos\u001b[49m\u001b[43m.\u001b[49m\u001b[43mscandir\u001b[49m\u001b[43m,\u001b[49m\u001b[43m \u001b[49m\u001b[43mpath\u001b[49m\u001b[43m,\u001b[49m\u001b[43m \u001b[49m\u001b[43msys\u001b[49m\u001b[43m.\u001b[49m\u001b[43mexc_info\u001b[49m\u001b[43m(\u001b[49m\u001b[43m)\u001b[49m\u001b[43m)\u001b[49m\n\u001b[32m    604\u001b[39m     entries = []\n\u001b[32m    605\u001b[39m \u001b[38;5;28;01mfor\u001b[39;00m entry \u001b[38;5;129;01min\u001b[39;00m entries:\n",
      "\u001b[36mFile \u001b[39m\u001b[32mc:\\Users\\amber\\AppData\\Local\\Programs\\Python\\Python311\\Lib\\shutil.py:600\u001b[39m, in \u001b[36m_rmtree_unsafe\u001b[39m\u001b[34m(path, onerror)\u001b[39m\n\u001b[32m    598\u001b[39m \u001b[38;5;28;01mdef\u001b[39;00m\u001b[38;5;250m \u001b[39m\u001b[34m_rmtree_unsafe\u001b[39m(path, onerror):\n\u001b[32m    599\u001b[39m     \u001b[38;5;28;01mtry\u001b[39;00m:\n\u001b[32m--> \u001b[39m\u001b[32m600\u001b[39m         \u001b[38;5;28;01mwith\u001b[39;00m \u001b[43mos\u001b[49m\u001b[43m.\u001b[49m\u001b[43mscandir\u001b[49m\u001b[43m(\u001b[49m\u001b[43mpath\u001b[49m\u001b[43m)\u001b[49m \u001b[38;5;28;01mas\u001b[39;00m scandir_it:\n\u001b[32m    601\u001b[39m             entries = \u001b[38;5;28mlist\u001b[39m(scandir_it)\n\u001b[32m    602\u001b[39m     \u001b[38;5;28;01mexcept\u001b[39;00m \u001b[38;5;167;01mOSError\u001b[39;00m:\n",
      "\u001b[31mFileNotFoundError\u001b[39m: [WinError 3] The system cannot find the path specified: '\\\\data'"
     ]
    }
   ],
   "source": [
    "# Converts all the data from video to npz files\n",
    "# Only need to run this once when setting up your system\n",
    "\n",
    "# Subfolders where data is; True indicates it is segmentation data\n",
    "subfolders = { \n",
    "    \"segmentation_train\": True,\n",
    "    \"segmentation_test\": True,\n",
    "    \"tracking_train\": False,\n",
    "    \"tracking_test\": False\n",
    "}\n",
    "convert_all_data(og_data_path, data_path, subfolders)"
   ]
  },
  {
   "cell_type": "code",
   "execution_count": 3,
   "metadata": {},
   "outputs": [
    {
     "name": "stdout",
     "output_type": "stream",
     "text": [
      "Epoch 0:\n",
      ".\n",
      ".\n",
      ".\n",
      ".\n",
      ".\n"
     ]
    }
   ],
   "source": [
    "# Training for Segmentation\n",
    "\n",
    "# Model\n",
    "model = Model1(4) # Switch out with whichever model you like\n",
    "\n",
    "folder = os.path.join(data_path, \"segmentation_train\")\n",
    "dataset = EndovisDataset(folder)\n",
    "dataloader = DataLoader(dataset, batch_size=batch_size, shuffle=True) # TODO can tune batch size\n",
    "\n",
    "criterion = nn.BCELoss() # Because https://medium.com/@kitkat73275/multi-label-classification-8d8ae55e8373#:~:text=For%20multi%2Dlabel%20classification%20with,class%20labels%20for%20new%20instances.\n",
    "optimizer = optim.SGD(model.parameters(), lr=learning_rate, momentum=momentum) # TODO tune these hyperparameters\n",
    "\n",
    "for epoch in range(epochs):\n",
    "    print(\"Epoch %d:\" % epoch)\n",
    "    for frames, truths in dataloader:\n",
    "        optimizer.zero_grad()\n",
    "        outputs = model(frames)\n",
    "        loss = criterion(outputs, truths)\n",
    "        loss.backward()\n",
    "        optimizer.step()\n",
    "    print(\"Loss: %f\" % loss.item())\n",
    "\n",
    "torch.save(model.state_dict(), segmentation_model_weights_path)\n"
   ]
  },
  {
   "cell_type": "code",
   "execution_count": null,
   "metadata": {},
   "outputs": [],
   "source": [
    "# Testing for Segmentation\n",
    "\n",
    "model = Model1()\n",
    "model.load_state_dict(torch.load(segmentation_model_weights_path))\n",
    "model.eval()\n",
    "\n",
    "test_folder = r\"data\\segmentation_test\"\n",
    "testset = EndovisDataset(test_folder)\n",
    "testloader = DataLoader(testset, batch_size=batch_size, shuffle=True) \n",
    "\n",
    "# Test the model\n",
    "with torch.no_grad():\n",
    "    for frames, truths in testloader:\n",
    "        outputs = torch.sigmoid(model(frames)) # Apply sigmoid for probabilities\n",
    "        # TODO Evaluate performance, like IOU or DICE"
   ]
  },
  {
   "cell_type": "code",
   "execution_count": null,
   "metadata": {},
   "outputs": [],
   "source": [
    "# Training for Tracking\n",
    "\n",
    "# TODO Cloud"
   ]
  },
  {
   "cell_type": "code",
   "execution_count": null,
   "metadata": {},
   "outputs": [],
   "source": [
    "# Testing for Tracking\n",
    "\n",
    "# TODO Cloud"
   ]
  }
 ],
 "metadata": {
  "kernelspec": {
   "display_name": "Python 3",
   "language": "python",
   "name": "python3"
  },
  "language_info": {
   "codemirror_mode": {
    "name": "ipython",
    "version": 3
   },
   "file_extension": ".py",
   "mimetype": "text/x-python",
   "name": "python",
   "nbconvert_exporter": "python",
   "pygments_lexer": "ipython3",
   "version": "3.11.5"
  }
 },
 "nbformat": 4,
 "nbformat_minor": 2
}
